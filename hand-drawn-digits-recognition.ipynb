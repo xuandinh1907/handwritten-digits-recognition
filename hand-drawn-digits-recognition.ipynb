{
 "cells": [
  {
   "cell_type": "markdown",
   "metadata": {},
   "source": [
    "# Week 4 Lab: MNIST - Handwritten digits database\n",
    "\n",
    "## Overview\n",
    "\n",
    "The MNIST database (Modified National Institute of Standards and Technology database) is a large database of handwritten digits that is commonly used for training various image processing systems. MNIST is like the \"Hello World\" of machine learning with which you can try out a few machine learning algorithms.\n",
    "\n",
    "![](https://upload.wikimedia.org/wikipedia/commons/2/27/MnistExamples.png)\n"
   ]
  },
  {
   "cell_type": "markdown",
   "metadata": {},
   "source": [
    "For easy to understand how this data set was built, I get an example image, which contains number 7, from mist.\n",
    "1. Resize it from 28x28 to 10X10 and make diagram. Each pixel in image contains value from 0 to 255. The greater the number, the whiter the color. That is the way how people encode the image. [Link](https://www.scan2cad.com/tips/bitmap-vs-vector/) for further information.\n",
    "2. Because each observation should be one line in dataset so we reshape 2-D array to 1-D array. Using 1-D array as feature vector and label it. In our case, it's 7.\n",
    "3. Do it again with the other images from mist. We will have a table with feature vector and label. Take a close look at first and third observation. The pattern of them are much similar than second observation. Base on this thing, we hope that can build a model that classify a number using feature vector.\n",
    "\n",
    "Let's do it.\n",
    "![Imgur](https://i.imgur.com/wtFCKS3.jpg)"
   ]
  },
  {
   "cell_type": "markdown",
   "metadata": {},
   "source": [
    "## TODO\n",
    "1. Read dataset\n",
    "    - Dataset is too large (42000 observation) for some computer. To make it easy to handle, we get 5000 sample from origin dataset\n",
    "    - Split data set into train and test set\n",
    "2. Visualization\n",
    "    - Visualization helps you understand more about data set. Grab an observation and visualize it.\n",
    "3. Modeling\n",
    "    - We try with 2 tree base model:\n",
    "        - Decision Tree\n",
    "        - Random Forest\n",
    "4. Evaluate model\n",
    "    - Calculate accuracy, precision, recall, f1 score with each model.\n",
    "    - Random Forest vs Decision Tree, which one is better.\n",
    "5. Fine Tune\n",
    "    - Random Forest has many hyper parameters that we have to choose, so which combination is bet fit with our data set? Using gridsearchCV to find it."
   ]
  },
  {
   "cell_type": "markdown",
   "metadata": {},
   "source": [
    "## 1. Read dataset"
   ]
  },
  {
   "cell_type": "code",
   "execution_count": 35,
   "metadata": {},
   "outputs": [],
   "source": [
    "# Import libraries\n",
    "import pandas as pd\n",
    "import numpy as np\n",
    "import matplotlib.pyplot as plt\n",
    "import seaborn as sns\n",
    "from sklearn.ensemble import RandomForestClassifier\n",
    "from sklearn.tree import DecisionTreeClassifier\n",
    "from sklearn.metrics import accuracy_score, confusion_matrix , classification_report"
   ]
  },
  {
   "cell_type": "code",
   "execution_count": 144,
   "metadata": {},
   "outputs": [
    {
     "name": "stdout",
     "output_type": "stream",
     "text": [
      "<class 'pandas.core.frame.DataFrame'>\n",
      "RangeIndex: 42000 entries, 0 to 41999\n",
      "Columns: 785 entries, label to pixel783\n",
      "dtypes: int64(785)\n",
      "memory usage: 251.5 MB\n"
     ]
    }
   ],
   "source": [
    "# Import dataset\n",
    "# Your code here\n",
    "data = pd.read_csv(r\"C:\\Users\\ASUS\\Downloads\\CSML_W4\\CSML_W4\\data\\train.csv\")\n",
    "data.info()"
   ]
  },
  {
   "cell_type": "code",
   "execution_count": 97,
   "metadata": {},
   "outputs": [
    {
     "name": "stdout",
     "output_type": "stream",
     "text": [
      "<class 'pandas.core.frame.DataFrame'>\n",
      "Int64Index: 5000 entries, 3124 to 9767\n",
      "Columns: 785 entries, label to pixel783\n",
      "dtypes: int64(785)\n",
      "memory usage: 30.0 MB\n"
     ]
    }
   ],
   "source": [
    "# For easy to handle, we use a small pice of dataset\n",
    "# Ramdomly choose 5000 rows for now\n",
    "# hint: dataframe.sample(5000)\n",
    "# Your code here\n",
    "data = data.sample(5000)\n",
    "data.info()"
   ]
  },
  {
   "cell_type": "code",
   "execution_count": 20,
   "metadata": {},
   "outputs": [
    {
     "data": {
      "text/html": [
       "<div>\n",
       "<style scoped>\n",
       "    .dataframe tbody tr th:only-of-type {\n",
       "        vertical-align: middle;\n",
       "    }\n",
       "\n",
       "    .dataframe tbody tr th {\n",
       "        vertical-align: top;\n",
       "    }\n",
       "\n",
       "    .dataframe thead th {\n",
       "        text-align: right;\n",
       "    }\n",
       "</style>\n",
       "<table border=\"1\" class=\"dataframe\">\n",
       "  <thead>\n",
       "    <tr style=\"text-align: right;\">\n",
       "      <th></th>\n",
       "      <th>label</th>\n",
       "      <th>pixel0</th>\n",
       "      <th>pixel1</th>\n",
       "      <th>pixel2</th>\n",
       "      <th>pixel3</th>\n",
       "      <th>pixel4</th>\n",
       "      <th>pixel5</th>\n",
       "      <th>pixel6</th>\n",
       "      <th>pixel7</th>\n",
       "      <th>pixel8</th>\n",
       "      <th>...</th>\n",
       "      <th>pixel774</th>\n",
       "      <th>pixel775</th>\n",
       "      <th>pixel776</th>\n",
       "      <th>pixel777</th>\n",
       "      <th>pixel778</th>\n",
       "      <th>pixel779</th>\n",
       "      <th>pixel780</th>\n",
       "      <th>pixel781</th>\n",
       "      <th>pixel782</th>\n",
       "      <th>pixel783</th>\n",
       "    </tr>\n",
       "  </thead>\n",
       "  <tbody>\n",
       "    <tr>\n",
       "      <th>30739</th>\n",
       "      <td>3</td>\n",
       "      <td>0</td>\n",
       "      <td>0</td>\n",
       "      <td>0</td>\n",
       "      <td>0</td>\n",
       "      <td>0</td>\n",
       "      <td>0</td>\n",
       "      <td>0</td>\n",
       "      <td>0</td>\n",
       "      <td>0</td>\n",
       "      <td>...</td>\n",
       "      <td>0</td>\n",
       "      <td>0</td>\n",
       "      <td>0</td>\n",
       "      <td>0</td>\n",
       "      <td>0</td>\n",
       "      <td>0</td>\n",
       "      <td>0</td>\n",
       "      <td>0</td>\n",
       "      <td>0</td>\n",
       "      <td>0</td>\n",
       "    </tr>\n",
       "    <tr>\n",
       "      <th>36814</th>\n",
       "      <td>6</td>\n",
       "      <td>0</td>\n",
       "      <td>0</td>\n",
       "      <td>0</td>\n",
       "      <td>0</td>\n",
       "      <td>0</td>\n",
       "      <td>0</td>\n",
       "      <td>0</td>\n",
       "      <td>0</td>\n",
       "      <td>0</td>\n",
       "      <td>...</td>\n",
       "      <td>0</td>\n",
       "      <td>0</td>\n",
       "      <td>0</td>\n",
       "      <td>0</td>\n",
       "      <td>0</td>\n",
       "      <td>0</td>\n",
       "      <td>0</td>\n",
       "      <td>0</td>\n",
       "      <td>0</td>\n",
       "      <td>0</td>\n",
       "    </tr>\n",
       "    <tr>\n",
       "      <th>16568</th>\n",
       "      <td>1</td>\n",
       "      <td>0</td>\n",
       "      <td>0</td>\n",
       "      <td>0</td>\n",
       "      <td>0</td>\n",
       "      <td>0</td>\n",
       "      <td>0</td>\n",
       "      <td>0</td>\n",
       "      <td>0</td>\n",
       "      <td>0</td>\n",
       "      <td>...</td>\n",
       "      <td>0</td>\n",
       "      <td>0</td>\n",
       "      <td>0</td>\n",
       "      <td>0</td>\n",
       "      <td>0</td>\n",
       "      <td>0</td>\n",
       "      <td>0</td>\n",
       "      <td>0</td>\n",
       "      <td>0</td>\n",
       "      <td>0</td>\n",
       "    </tr>\n",
       "    <tr>\n",
       "      <th>15001</th>\n",
       "      <td>3</td>\n",
       "      <td>0</td>\n",
       "      <td>0</td>\n",
       "      <td>0</td>\n",
       "      <td>0</td>\n",
       "      <td>0</td>\n",
       "      <td>0</td>\n",
       "      <td>0</td>\n",
       "      <td>0</td>\n",
       "      <td>0</td>\n",
       "      <td>...</td>\n",
       "      <td>0</td>\n",
       "      <td>0</td>\n",
       "      <td>0</td>\n",
       "      <td>0</td>\n",
       "      <td>0</td>\n",
       "      <td>0</td>\n",
       "      <td>0</td>\n",
       "      <td>0</td>\n",
       "      <td>0</td>\n",
       "      <td>0</td>\n",
       "    </tr>\n",
       "    <tr>\n",
       "      <th>737</th>\n",
       "      <td>5</td>\n",
       "      <td>0</td>\n",
       "      <td>0</td>\n",
       "      <td>0</td>\n",
       "      <td>0</td>\n",
       "      <td>0</td>\n",
       "      <td>0</td>\n",
       "      <td>0</td>\n",
       "      <td>0</td>\n",
       "      <td>0</td>\n",
       "      <td>...</td>\n",
       "      <td>0</td>\n",
       "      <td>0</td>\n",
       "      <td>0</td>\n",
       "      <td>0</td>\n",
       "      <td>0</td>\n",
       "      <td>0</td>\n",
       "      <td>0</td>\n",
       "      <td>0</td>\n",
       "      <td>0</td>\n",
       "      <td>0</td>\n",
       "    </tr>\n",
       "  </tbody>\n",
       "</table>\n",
       "<p>5 rows × 785 columns</p>\n",
       "</div>"
      ],
      "text/plain": [
       "       label  pixel0  pixel1  pixel2  pixel3  pixel4  pixel5  pixel6  pixel7  \\\n",
       "30739      3       0       0       0       0       0       0       0       0   \n",
       "36814      6       0       0       0       0       0       0       0       0   \n",
       "16568      1       0       0       0       0       0       0       0       0   \n",
       "15001      3       0       0       0       0       0       0       0       0   \n",
       "737        5       0       0       0       0       0       0       0       0   \n",
       "\n",
       "       pixel8  ...  pixel774  pixel775  pixel776  pixel777  pixel778  \\\n",
       "30739       0  ...         0         0         0         0         0   \n",
       "36814       0  ...         0         0         0         0         0   \n",
       "16568       0  ...         0         0         0         0         0   \n",
       "15001       0  ...         0         0         0         0         0   \n",
       "737         0  ...         0         0         0         0         0   \n",
       "\n",
       "       pixel779  pixel780  pixel781  pixel782  pixel783  \n",
       "30739         0         0         0         0         0  \n",
       "36814         0         0         0         0         0  \n",
       "16568         0         0         0         0         0  \n",
       "15001         0         0         0         0         0  \n",
       "737           0         0         0         0         0  \n",
       "\n",
       "[5 rows x 785 columns]"
      ]
     },
     "execution_count": 20,
     "metadata": {},
     "output_type": "execute_result"
    }
   ],
   "source": [
    "# Let's take a look at first 5 rows ()\n",
    "# Your code here\n",
    "data.head(5)"
   ]
  },
  {
   "cell_type": "markdown",
   "metadata": {},
   "source": [
    "You can see that each image is 28 pixels in height and 28 pixels in width, for a total of 784 pixels in total. Each pixel has a single pixel-value associated with it, indicating the lightness or darkness of that pixel, with higher numbers meaning lighter. This pixel-value is an integer between 0 and 255, inclusive.\n",
    "\n",
    "Visually, if we omit the \"pixel\" prefix, the pixels make up the image like this:\n",
    "```\n",
    "000 001 002 003 ... 026 027\n",
    "028 029 030 031 ... 054 055\n",
    "056 057 058 059 ... 082 083\n",
    " |   |   |   |  ...  |   |\n",
    "728 729 730 731 ... 754 755\n",
    "756 757 758 759 ... 782 783 \n",
    "```\n",
    "![image](https://i.imgur.com/lFxwGOf.png=500x500)"
   ]
  },
  {
   "cell_type": "code",
   "execution_count": 21,
   "metadata": {},
   "outputs": [
    {
     "data": {
      "text/plain": [
       "array([3, 6, 1, 5, 0, 7, 4, 8, 2, 9], dtype=int64)"
      ]
     },
     "execution_count": 21,
     "metadata": {},
     "output_type": "execute_result"
    }
   ],
   "source": [
    "# Let's list all unique values are there in 'label'\n",
    "# We expect to see a list from 0 to 9\n",
    "# Your code here\n",
    "data['label'].unique()"
   ]
  },
  {
   "cell_type": "code",
   "execution_count": 91,
   "metadata": {},
   "outputs": [
    {
     "data": {
      "text/plain": [
       "(5000,)"
      ]
     },
     "execution_count": 91,
     "metadata": {},
     "output_type": "execute_result"
    }
   ],
   "source": [
    "# Let's defines X and y for train_test_split \n",
    "# y should be values of the column 'label' and X should contain the rest (784 pixel columns)\n",
    "# Your code here\n",
    "X = data['label']\n",
    "y = data.drop(['label'],axis=1)\n",
    "X.shape"
   ]
  },
  {
   "cell_type": "code",
   "execution_count": 61,
   "metadata": {},
   "outputs": [
    {
     "data": {
      "text/plain": [
       "1    0.111524\n",
       "7    0.104786\n",
       "3    0.103595\n",
       "9    0.099714\n",
       "2    0.099452\n",
       "6    0.098500\n",
       "0    0.098381\n",
       "4    0.096952\n",
       "8    0.096738\n",
       "5    0.090357\n",
       "Name: label, dtype: float64"
      ]
     },
     "execution_count": 61,
     "metadata": {},
     "output_type": "execute_result"
    }
   ],
   "source": [
    "# Train test split\n",
    "# Let's split X and y to X_train, y_train, X_test, y_test with 25% test size and random state 101\n",
    "# Your code here\n",
    "data[\"label\"].value_counts() / len(data)"
   ]
  },
  {
   "cell_type": "code",
   "execution_count": 24,
   "metadata": {},
   "outputs": [],
   "source": [
    "from sklearn.model_selection import train_test_split"
   ]
  },
  {
   "cell_type": "code",
   "execution_count": 145,
   "metadata": {},
   "outputs": [],
   "source": [
    "train_set , test_set = train_test_split(data , test_size=0.2, random_state=102, stratify=data['label'])"
   ]
  },
  {
   "cell_type": "code",
   "execution_count": 146,
   "metadata": {},
   "outputs": [],
   "source": [
    "y_train = train_set['label']\n",
    "X_train = train_set.drop(['label'],axis=1)"
   ]
  },
  {
   "cell_type": "code",
   "execution_count": 100,
   "metadata": {},
   "outputs": [
    {
     "data": {
      "text/plain": [
       "1    0.10900\n",
       "9    0.10150\n",
       "4    0.10150\n",
       "0    0.10125\n",
       "8    0.10000\n",
       "7    0.09950\n",
       "3    0.09950\n",
       "6    0.09900\n",
       "2    0.09750\n",
       "5    0.09125\n",
       "Name: label, dtype: float64"
      ]
     },
     "execution_count": 100,
     "metadata": {},
     "output_type": "execute_result"
    }
   ],
   "source": [
    "train_set[\"label\"].value_counts() / len(train_set)"
   ]
  },
  {
   "cell_type": "code",
   "execution_count": 147,
   "metadata": {},
   "outputs": [],
   "source": [
    "y_test = test_set['label']\n",
    "X_test = test_set.drop(['label'],axis=1)"
   ]
  },
  {
   "cell_type": "code",
   "execution_count": 102,
   "metadata": {},
   "outputs": [
    {
     "data": {
      "text/plain": [
       "1    0.109\n",
       "9    0.102\n",
       "4    0.102\n",
       "0    0.102\n",
       "8    0.100\n",
       "7    0.099\n",
       "6    0.099\n",
       "3    0.099\n",
       "2    0.097\n",
       "5    0.091\n",
       "Name: label, dtype: float64"
      ]
     },
     "execution_count": 102,
     "metadata": {},
     "output_type": "execute_result"
    }
   ],
   "source": [
    "test_set[\"label\"].value_counts() / len(test_set)"
   ]
  },
  {
   "cell_type": "markdown",
   "metadata": {},
   "source": [
    "## 2. Visualization"
   ]
  },
  {
   "cell_type": "code",
   "execution_count": 30,
   "metadata": {
    "scrolled": true
   },
   "outputs": [
    {
     "data": {
      "text/plain": [
       "37249    4\n",
       "18836    4\n",
       "25295    5\n",
       "Name: label, dtype: int64"
      ]
     },
     "execution_count": 30,
     "metadata": {},
     "output_type": "execute_result"
    }
   ],
   "source": [
    "y_train.head(3)"
   ]
  },
  {
   "cell_type": "code",
   "execution_count": null,
   "metadata": {},
   "outputs": [],
   "source": [
    "# Now let's convert some example of our data back to image\n",
    "# Let's start with choosing a random integer number called 'index', your choice but it shouldn't be greater than 5000\n",
    "# Let's print out y_train[index] which is the number of the image\n",
    "# Using plt.imshow(img, cmap='gray') we can plot the image. But img here should be 28x28 in height and width.\n",
    "# So before plotting we need to transform the vector X_train[index] into 28x28 Matrix with the function reshape()\n",
    "# Here is an example:\n",
    "# a = np.arange(6).reshape((3, 2))\n",
    "# >>> a\n",
    "# array([[0, 1],\n",
    "#        [2, 3],\n",
    "#        [4, 5]])\n",
    "# Now we try to look at the number with index is 36, you can try with different index for exp: 30, 49\n",
    "# index = 21261\n",
    "# print(\"Label: \" + str(y_train[index]))\n",
    "# plt.imshow(X_train.loc[index].as_matrix().reshape((28,28)),cmap='gray')\n",
    "# plt.axis('off')\n",
    "# plt.show()"
   ]
  },
  {
   "cell_type": "markdown",
   "metadata": {},
   "source": [
    "## 3. Modeling"
   ]
  },
  {
   "cell_type": "code",
   "execution_count": 149,
   "metadata": {},
   "outputs": [
    {
     "data": {
      "text/plain": [
       "(33600,)"
      ]
     },
     "execution_count": 149,
     "metadata": {},
     "output_type": "execute_result"
    }
   ],
   "source": [
    "y_train.shape"
   ]
  },
  {
   "cell_type": "code",
   "execution_count": 150,
   "metadata": {},
   "outputs": [],
   "source": [
    "# Random Forest & Decision Tree\n",
    "# Let's define two classifier called rfc and dtc represent RandomForestClassifier and DecisionTreeClassifier\n",
    "# Your code here\n",
    "rfc = RandomForestClassifier(max_depth = 21, n_estimators = 258)\n",
    "# dtc = DecisionTreeClassifier()"
   ]
  },
  {
   "cell_type": "code",
   "execution_count": 151,
   "metadata": {},
   "outputs": [
    {
     "data": {
      "text/plain": [
       "RandomForestClassifier(bootstrap=True, ccp_alpha=0.0, class_weight=None,\n",
       "                       criterion='gini', max_depth=21, max_features='auto',\n",
       "                       max_leaf_nodes=None, max_samples=None,\n",
       "                       min_impurity_decrease=0.0, min_impurity_split=None,\n",
       "                       min_samples_leaf=1, min_samples_split=2,\n",
       "                       min_weight_fraction_leaf=0.0, n_estimators=258,\n",
       "                       n_jobs=None, oob_score=False, random_state=None,\n",
       "                       verbose=0, warm_start=False)"
      ]
     },
     "execution_count": 151,
     "metadata": {},
     "output_type": "execute_result"
    }
   ],
   "source": [
    "# Let's fit training data to Random Forest Classifier\n",
    "# Your code here\n",
    "rfc.fit(X_train,y_train)"
   ]
  },
  {
   "cell_type": "code",
   "execution_count": null,
   "metadata": {},
   "outputs": [],
   "source": [
    "# Let's fit training data to Decision Tree Classifier\n",
    "# Your code here\n",
    "# dtc.fit(X_train,y_train)"
   ]
  },
  {
   "cell_type": "markdown",
   "metadata": {},
   "source": [
    "## 4. Evaluate model"
   ]
  },
  {
   "cell_type": "code",
   "execution_count": 152,
   "metadata": {},
   "outputs": [
    {
     "data": {
      "text/plain": [
       "0.9677380952380953"
      ]
     },
     "execution_count": 152,
     "metadata": {},
     "output_type": "execute_result"
    }
   ],
   "source": [
    "# Let's apply our models to testing set and take a look at accuracy score first\n",
    "# Random Forest model\n",
    "# Your code here\n",
    "rfc_y_pred = rfc.predict(X_test)\n",
    "accuracy_score(y_test, rfc_y_pred)"
   ]
  },
  {
   "cell_type": "code",
   "execution_count": null,
   "metadata": {},
   "outputs": [],
   "source": [
    "# Decision Tree model\n",
    "# Your code here\n",
    "# dtc_y_pred = dtc.predict(X_test)\n",
    "# accuracy_score(y_test, dtc_y_pred)"
   ]
  },
  {
   "cell_type": "code",
   "execution_count": 163,
   "metadata": {},
   "outputs": [
    {
     "data": {
      "image/png": "[encoded data removed]",
      "text/plain": [
       "<Figure size 432x288 with 2 Axes>"
      ]
     },
     "metadata": {
      "needs_background": "light"
     },
     "output_type": "display_data"
    }
   ],
   "source": [
    "# Remember seaborn with its amazing heatmap()? \n",
    "# Actually we can use heatmap() to visualize the confustion matrix\n",
    "# Just for example about the style of heatmap: cmap=\"YlGnBu\", annot=True, fmt=\"d\"\n",
    "\n",
    "# Let's plot the heatmap for confusion matrix of Random Forest model\n",
    "# Your code here\n",
    "rfc_cm = confusion_matrix(y_test, rfc_y_pred)\n",
    "sns.heatmap(rfc_cm,cmap=\"YlGnBu\", annot=True, fmt=\"d\")\n",
    "b, t = plt.ylim() # discover the values for bottom and top\n",
    "b += 0.5 # Add 0.5 to the bottom\n",
    "t -= 0.5 # Subtract 0.5 from the top\n",
    "plt.ylim(b, t) # update the ylim(bottom, top) values\n",
    "plt.show() # ta-da"
   ]
  },
  {
   "cell_type": "code",
   "execution_count": 154,
   "metadata": {
    "scrolled": false
   },
   "outputs": [
    {
     "name": "stdout",
     "output_type": "stream",
     "text": [
      "              precision    recall  f1-score   support\n",
      "\n",
      "           0       0.98      0.99      0.98       826\n",
      "           1       0.99      0.99      0.99       937\n",
      "           2       0.97      0.97      0.97       835\n",
      "           3       0.96      0.94      0.95       870\n",
      "           4       0.97      0.96      0.97       814\n",
      "           5       0.97      0.97      0.97       759\n",
      "           6       0.97      0.98      0.98       828\n",
      "           7       0.98      0.97      0.97       880\n",
      "           8       0.96      0.95      0.95       813\n",
      "           9       0.94      0.95      0.95       838\n",
      "\n",
      "    accuracy                           0.97      8400\n",
      "   macro avg       0.97      0.97      0.97      8400\n",
      "weighted avg       0.97      0.97      0.97      8400\n",
      "\n"
     ]
    }
   ],
   "source": [
    "report = classification_report(y_test, rfc_y_pred)\n",
    "print(report)"
   ]
  },
  {
   "cell_type": "code",
   "execution_count": null,
   "metadata": {},
   "outputs": [],
   "source": [
    "# And heatmap for confusion matrix of Decision Tree model\n",
    "# Your code here\n",
    "dtc_cm = confusion_matrix(y_test, dtc_y_pred)\n",
    "sns.heatmap(dtc_cm,cmap=\"YlGnBu\", annot=True, fmt=\"d\")"
   ]
  },
  {
   "cell_type": "markdown",
   "metadata": {},
   "source": [
    "## 5. Fine Tune\n",
    "[Further reading](https://towardsdatascience.com/hyperparameter-tuning-the-random-forest-in-python-using-scikit-learn-28d2aa77dd74)"
   ]
  },
  {
   "cell_type": "code",
   "execution_count": null,
   "metadata": {},
   "outputs": [],
   "source": [
    "# Base on the accuracy score we decide to take Random Forest as our Classifier and we're going to improve it\n",
    "# Now let's take a look at the parameter 'n_estimators' which is the number of trees in the forest\n",
    "# Do you think the more tree we have the better our model will be?\n",
    "\n",
    "# Let's plot the correlation between n_estimators and accuracy\n",
    "# Define an array of number called 'n', n should be set of 'n_estimators' that we're going to test\n",
    "n = [1 ,5 ,10, 20, 50, 100, 200, 500]\n",
    "# Define a 'result' array to save the accuracy score of each trial\n",
    "result = []\n",
    "# Using a for-loop which goes through n\n",
    "# Inside the loop we will define a new RandomForestClassifier model with appropriate 'n_estimators'\n",
    "# Then apply that model on X_test and calculate the accuracy score then save it into 'result'\n",
    "# Your code here\n",
    "for i in n:\n",
    "    clf = RandomForestClassifier(n_estimators=i)\n",
    "    clf.fit(X_train,y_train)\n",
    "    predictions = clf.predict(X_test)\n",
    "    result.append(accuracy_score(predictions,y_test))    \n",
    "# Last step let's plot n and result on a grid using plt.scatter()\n",
    "plt.scatter(x=n,y=result)\n",
    "print(result)"
   ]
  },
  {
   "cell_type": "code",
   "execution_count": 103,
   "metadata": {},
   "outputs": [
    {
     "data": {
      "text/plain": [
       "(4000, 784)"
      ]
     },
     "execution_count": 103,
     "metadata": {},
     "output_type": "execute_result"
    }
   ],
   "source": [
    "X_train.shape"
   ]
  },
  {
   "cell_type": "code",
   "execution_count": 109,
   "metadata": {},
   "outputs": [
    {
     "data": {
      "text/plain": [
       "RandomizedSearchCV(cv=5, error_score=nan,\n",
       "                   estimator=RandomForestClassifier(bootstrap=True,\n",
       "                                                    ccp_alpha=0.0,\n",
       "                                                    class_weight=None,\n",
       "                                                    criterion='gini',\n",
       "                                                    max_depth=None,\n",
       "                                                    max_features='auto',\n",
       "                                                    max_leaf_nodes=None,\n",
       "                                                    max_samples=None,\n",
       "                                                    min_impurity_decrease=0.0,\n",
       "                                                    min_impurity_split=None,\n",
       "                                                    min_samples_leaf=1,\n",
       "                                                    min_samples_split=2,\n",
       "                                                    min_weight_fraction_leaf=0.0,\n",
       "                                                    n_estimators=100,\n",
       "                                                    n_jobs...\n",
       "                                                    warm_start=False),\n",
       "                   iid='deprecated', n_iter=10, n_jobs=None,\n",
       "                   param_distributions={'max_depth': <scipy.stats._distn_infrastructure.rv_frozen object at 0x000000C33A6F9748>,\n",
       "                                        'n_estimators': <scipy.stats._distn_infrastructure.rv_frozen object at 0x000000C33A6F9FC8>},\n",
       "                   pre_dispatch='2*n_jobs', random_state=42, refit=True,\n",
       "                   return_train_score=False, scoring='accuracy', verbose=0)"
      ]
     },
     "execution_count": 109,
     "metadata": {},
     "output_type": "execute_result"
    }
   ],
   "source": [
    "from sklearn.model_selection import RandomizedSearchCV\n",
    "from scipy.stats import randint\n",
    "\n",
    "param_distribs = {\n",
    "        'n_estimators': randint(low=1, high=300),\n",
    "        'max_depth': randint(low=1, high=30)\n",
    "}\n",
    "\n",
    "rfc = RandomForestClassifier()\n",
    "rnd_search = RandomizedSearchCV(rfc, param_distributions=param_distribs,\n",
    "                                n_iter=10, cv=5, scoring='accuracy', random_state=42)\n",
    "rnd_search.fit(X_train, y_train)"
   ]
  },
  {
   "cell_type": "code",
   "execution_count": 110,
   "metadata": {},
   "outputs": [
    {
     "name": "stdout",
     "output_type": "stream",
     "text": [
      "0.9492101980067429 {'max_depth': 7, 'n_estimators': 271}\n",
      "0.9617692030835673 {'max_depth': 11, 'n_estimators': 72}\n",
      "0.9521029356114811 {'max_depth': 29, 'n_estimators': 21}\n",
      "0.9503946548671242 {'max_depth': 7, 'n_estimators': 122}\n",
      "0.96591925128346 {'max_depth': 19, 'n_estimators': 215}\n",
      "0.9618991631143049 {'max_depth': 11, 'n_estimators': 88}\n",
      "0.9625487000666513 {'max_depth': 21, 'n_estimators': 100}\n",
      "0.9569482744641948 {'max_depth': 8, 'n_estimators': 152}\n",
      "0.8699137888319739 {'max_depth': 3, 'n_estimators': 150}\n",
      "0.9663074045043845 {'max_depth': 21, 'n_estimators': 258}\n"
     ]
    }
   ],
   "source": [
    "cvres = rnd_search.cv_results_\n",
    "for mean_score, params in zip(cvres[\"mean_test_score\"], cvres[\"params\"]):\n",
    "    print(np.sqrt(mean_score), params)"
   ]
  },
  {
   "cell_type": "markdown",
   "metadata": {},
   "source": [
    "# Cross validation"
   ]
  },
  {
   "cell_type": "markdown",
   "metadata": {},
   "source": [
    "## Great job!"
   ]
  },
  {
   "cell_type": "markdown",
   "metadata": {},
   "source": [
    "# save file"
   ]
  },
  {
   "cell_type": "code",
   "execution_count": 153,
   "metadata": {},
   "outputs": [],
   "source": [
    "import joblib\n",
    "\n",
    "joblib.dump(rfc, \"Dinh_model.pkl\")\n",
    "# and later...\n",
    "my_model_loaded = joblib.load(\"Dinh_model.pkl\")"
   ]
  },
  {
   "cell_type": "code",
   "execution_count": null,
   "metadata": {},
   "outputs": [],
   "source": []
  }
 ],
 "metadata": {
  "kernelspec": {
   "display_name": "Python 3",
   "language": "python",
   "name": "python3"
  },
  "language_info": {
   "codemirror_mode": {
    "name": "ipython",
    "version": 3
   },
   "file_extension": ".py",
   "mimetype": "text/x-python",
   "name": "python",
   "nbconvert_exporter": "python",
   "pygments_lexer": "ipython3",
   "version": "3.7.5"
  }
 },
 "nbformat": 4,
 "nbformat_minor": 2
}
